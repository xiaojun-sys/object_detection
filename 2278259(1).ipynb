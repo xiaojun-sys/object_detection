{
 "cells": [
  {
   "cell_type": "markdown",
   "metadata": {
    "collapsed": false
   },
   "source": [
    "# 【新手入门】PaddleX实现小白的第一个目标检测任务\n",
    "\n",
    "适合与我一样的小白上手PaddleX简单预训练模型，可以按照自己的想法完成自己的第一个Paddle项目（或是demo），并且PaddleX的全流程开发，无需担心自己对于PaddlePaddle不熟悉。\n",
    "\n",
    "# 一、项目背景\n",
    "\n",
    "在飞桨领航团中学习了一些paddlex项目的流程，尝试写一个目标检测demo，调用预训练模型进行对数据集图片进行训练后，对测试集中图片目标检测。\n",
    "\n",
    "# 二、数据集简介\n",
    "\n",
    "PASCAL VOC为图像识别和分类提供了一整套标准化的优秀的数据集，从2005年到2012年每年都会举行一场图像识别challenge。此数据集可以用于图像分类、目标检测、图像分割，非常适合我这样的小白入门尝试，而Paddlex对于VOC十分友好。\n"
   ]
  },
  {
   "cell_type": "code",
   "execution_count": 1,
   "metadata": {
    "collapsed": false
   },
   "outputs": [],
   "source": [
    "# 下载paddlex依赖方便后续使用\r\n",
    "!pip install paddlex==2.0rc"
   ]
  },
  {
   "cell_type": "code",
   "execution_count": 2,
   "metadata": {
    "collapsed": false
   },
   "outputs": [],
   "source": [
    "#解压数据集\r\n",
    "!tar -xf /home/aistudio/data/data37195/VOC2012.tar"
   ]
  },
  {
   "cell_type": "code",
   "execution_count": 3,
   "metadata": {
    "collapsed": false
   },
   "outputs": [],
   "source": [
    "#调用paddlex切分数据集----7：2：1的分布训练集、验证集、测试集（在voc文件下）\r\n",
    "#paddlex的便利性，直接一步切分数据集\r\n",
    "!paddlex --split_dataset --format VOC --dataset_dir VOCdevkit/VOC2012 --val_value 0.2 --test_value 0.1"
   ]
  },
  {
   "cell_type": "code",
   "execution_count": 4,
   "metadata": {
    "collapsed": false
   },
   "outputs": [],
   "source": [
    "# 设置参数，对数据中的图片进行处理\r\n",
    "# 配置模型使用gpugpu显卡训练（cpu下删除下方代码中的0）\r\n",
    "import paddlex as pdx\r\n",
    "from paddlex import transforms as T\r\n",
    "import os\r\n",
    "os.environ['CUDA_VISIBLE_DEVICES'] = '0' \r\n",
    "#对读入的数据图片进行处理\r\n",
    "train_transforms = T.Compose([\r\n",
    "    T.MixupImage(mixup_epoch=250), T.RandomDistort(),\r\n",
    "    T.RandomExpand(im_padding_value=[123.675, 116.28, 103.53]), T.RandomCrop(),\r\n",
    "    T.RandomHorizontalFlip(), T.BatchRandomResize(\r\n",
    "        target_sizes=[320, 352, 384, 416, 448, 480, 512, 544, 576, 608],\r\n",
    "        interp='RANDOM'), T.Normalize(\r\n",
    "            mean=[0.485, 0.456, 0.406], std=[0.229, 0.224, 0.225])\r\n",
    "])\r\n",
    "\r\n",
    "eval_transforms = T.Compose([\r\n",
    "    T.Resize(\r\n",
    "        608, interp='CUBIC'), T.Normalize(\r\n",
    "            mean=[0.485, 0.456, 0.406], std=[0.229, 0.224, 0.225])\r\n",
    "])\r\n",
    "\r\n"
   ]
  },
  {
   "cell_type": "code",
   "execution_count": 5,
   "metadata": {
    "collapsed": false
   },
   "outputs": [],
   "source": [
    "# 读入分配好的数据集，及上方设定的参数\r\n",
    "# 按着划分好的list读入\r\n",
    "train_dataset = pdx.datasets.VOCDetection(\r\n",
    "    data_dir='VOCdevkit/VOC2012',\r\n",
    "    file_list='VOCdevkit/VOC2012/train_list.txt',\r\n",
    "    label_list='VOCdevkit/VOC2012/labels.txt',\r\n",
    "    transforms=train_transforms,\r\n",
    "    shuffle=True)\r\n",
    "\r\n",
    "eval_dataset = pdx.datasets.VOCDetection(\r\n",
    "    data_dir='VOCdevkit/VOC2012',\r\n",
    "    file_list='VOCdevkit/VOC2012/val_list.txt',\r\n",
    "    label_list='VOCdevkit/VOC2012/labels.txt',\r\n",
    "    transforms=eval_transforms,\r\n",
    "    shuffle=False)"
   ]
  },
  {
   "cell_type": "code",
   "execution_count": null,
   "metadata": {
    "collapsed": false
   },
   "outputs": [
    {
     "name": "stdout",
     "output_type": "stream",
     "text": [
      "2021-08-15 16:36:35 [INFO]\t[TRAIN] Epoch=8/200, Step=774/1498, loss_xy=6.835203, loss_wh=1.995733, loss_obj=14.516433, loss_cls=7.415272, loss=30.762640, lr=0.000125, time_each_step=0.38s, eta=31:32:39\r"
     ]
    }
   ],
   "source": [
    "#模型参数设定，及使用的预训练模型\r\n",
    "#运行该代码进行模型训练\r\n",
    "num_classes = len(train_dataset.labels)\r\n",
    "model = pdx.models.YOLOv3(num_classes=num_classes, backbone='MobileNetV1')\r\n",
    "\r\n",
    "#模型训练参数设定\r\n",
    "model.train(\r\n",
    "    num_epochs=200,\r\n",
    "    train_dataset=train_dataset,\r\n",
    "    train_batch_size=8,\r\n",
    "    eval_dataset=eval_dataset,\r\n",
    "    learning_rate=0.001 / 8,\r\n",
    "    warmup_steps=1000,\r\n",
    "    warmup_start_lr=0.0,\r\n",
    "    save_interval_epochs=5,\r\n",
    "    lr_decay_epochs=[216, 243],\r\n",
    "    save_dir='output/yolov3_MobileNetV1')"
   ]
  },
  {
   "cell_type": "code",
   "execution_count": null,
   "metadata": {
    "collapsed": false
   },
   "outputs": [],
   "source": [
    "#模型预测（选取图片查看测试效果）\r\n",
    "test_jpg = 'VOCdevkit/VOC2012/JPEGImages/2011_001878.jpg'#可以选取test中的图片测试\r\n",
    "model = pdx.load_model('output/yolov3_darknet53/epoch_30')#填写训练后的模型路径，这里是用的我30epoch训练出的模型测试预测\r\n",
    "\r\n",
    "result = model.predict(test_jpg)\r\n",
    "\r\n",
    "# 可视化结果存储在./visualized_test.jpg, 见下图\r\n",
    "#pdx.det.visualize(test_jpg, result, threshold=0.3, save_dir='./')----这是PADDLEX文档使用的预测调用但是无法成功运作，我不知道为啥，就换成下面的，\r\n",
    "pdx.visualize_det(test_jpg, result, threshold=0.3, save_dir='./')"
   ]
  },
  {
   "cell_type": "markdown",
   "metadata": {
    "collapsed": false
   },
   "source": [
    "# 四、效果展示\n",
    "\n",
    "多训练调参后可以得到更好的效果\n",
    "\n",
    "![](https://ai-studio-static-online.cdn.bcebos.com/f5a2b419744b4dd5b426ad7da15e5fd43a02c563b07e450b9e941e9fd5462a95)\n",
    "\n",
    "# 五、总结\n",
    "\n",
    "自己尝试写的demo，虽然很简单，但是经过paddlex的使用，有了继续探索paddle深度学习框架的兴趣，希望大佬留下宝贵的建议！感谢\n",
    "\n",
    "# 六、个人简介\n",
    "\n",
    "吴世君 东北大学秦皇岛分校 测控技术与仪器专业 大二本科生\n",
    "\n",
    "感兴趣方向：计算机视觉\n",
    "\n",
    "小小青铜渴望关注\n",
    "\n",
    "来互关呀~ [me jun](https://aistudio.baidu.com/aistudio/personalcenter/thirdview/791981)\n"
   ]
  },
  {
   "cell_type": "code",
   "execution_count": null,
   "metadata": {
    "collapsed": false
   },
   "outputs": [],
   "source": []
  }
 ],
 "metadata": {
  "kernelspec": {
   "display_name": "PaddlePaddle 2.1.2 (Python 3.5)",
   "language": "python",
   "name": "py35-paddle1.2.0"
  },
  "language_info": {
   "codemirror_mode": {
    "name": "ipython",
    "version": 3
   },
   "file_extension": ".py",
   "mimetype": "text/x-python",
   "name": "python",
   "nbconvert_exporter": "python",
   "pygments_lexer": "ipython3",
   "version": "3.7.4"
  }
 },
 "nbformat": 4,
 "nbformat_minor": 1
}
